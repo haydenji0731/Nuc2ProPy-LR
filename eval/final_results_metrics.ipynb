{
 "cells": [
  {
   "cell_type": "code",
   "execution_count": null,
   "metadata": {},
   "outputs": [],
   "source": [
    "# plan\n",
    "# parse through file, based on (+) or (-) at the end of each query, and whether alignments were found, \n",
    "# add to list of false positives, false negatives, true positives, and true negatives\n",
    "# keep track of length of each query in the list\n",
    "# find f-1, auc, roc, sensitivity vs. specificity\n",
    "# plot query length of fp, fn, tp, tn\n",
    "# keep track of number of matches & query length for each positive query in a separate list, plot this\n",
    "\n",
    "\n",
    "# false positive isn't perfect here, because of multiple alignments for most positives\n",
    "# how can we figure out which are true positives and non-true positives, how do we filter these out?\n",
    "# tracking query cover, plot this for every query alignment? make a quick histogram\n",
    "# \n",
    "\n",
    "\n",
    "# questions: \n",
    "# does it make sense that a single query would match a somewhat random other protein?\n",
    "# prediction probabilities??\n",
    "# look at length of query vs. +/-\n",
    "\n",
    "\n"
   ]
  },
  {
   "cell_type": "code",
   "execution_count": 7,
   "metadata": {},
   "outputs": [],
   "source": [
    "# reading in the text file\n",
    "# finding some basic stats\n",
    "input_f = open(\"refseq_unflanked_alignment.txt\", \"r\")\n",
    "\n",
    "t_pos = []\n",
    "t_neg = []\n",
    "f_pos = []\n",
    "f_neg = []\n",
    "\n",
    "preds = []\n",
    "true_vals = []\n",
    "\n",
    "lengths = []\n",
    "q_num = 0\n",
    "\n",
    "while True: \n",
    "    \n",
    "    line = input_f.readline()\n",
    "    \n",
    "    if not line:\n",
    "        break\n",
    "    \n",
    "    if 'NC_000001.11' in line:\n",
    "                \n",
    "        # parse lengths of each string\n",
    "        temp = line.partition(\"Length:\")[2]\n",
    "        q_len = int(temp[1:len(temp)-1])\n",
    "        lengths.append(q_len)\n",
    "        \n",
    "        q_num = q_num + 1\n",
    "        \n",
    "        # parse current query number\n",
    "        # can use this as label later on\n",
    "        # q_num = int(line.partition(\"|Query_\")[2].partition(\" Length\")[0])\n",
    "        \n",
    "        # read the line 2 lines below current line\n",
    "        input_f.readline()\n",
    "        new_ln = input_f.readline()\n",
    "\n",
    "        # positive sequence\n",
    "        if '+' in line: \n",
    "            \n",
    "            true_vals.append(1)\n",
    "            \n",
    "\n",
    "            if \"No\" in new_ln:\n",
    "                f_pos.append(q_num)\n",
    "                preds.append(0)\n",
    "\n",
    "            elif \"Sequences\" in new_ln:\n",
    "                t_pos.append(q_num)\n",
    "                preds.append(1)\n",
    "\n",
    "        # negative sequence\n",
    "        elif '-' in line:\n",
    "            \n",
    "            true_vals.append(0)\n",
    "\n",
    "            if \"No\" in new_ln:\n",
    "                t_neg.append(q_num)\n",
    "                preds.append(0)\n",
    "\n",
    "            elif \"Sequences\" in new_ln:\n",
    "                f_neg.append(q_num)\n",
    "                preds.append(1)\n",
    "\n"
   ]
  },
  {
   "cell_type": "code",
   "execution_count": 14,
   "metadata": {},
   "outputs": [],
   "source": [
    "# binarize alignments and true values"
   ]
  },
  {
   "cell_type": "code",
   "execution_count": 18,
   "metadata": {},
   "outputs": [],
   "source": [
    "from tabulate import tabulate\n",
    "\n",
    "def find_f1(t_pos, f_pos, f_neg, t_neg):\n",
    "    return len(t_pos) / (len(t_pos) + 0.5*(len(f_pos) + len(f_neg)))\n",
    "\n",
    "def find_sens(t_pos, f_pos, f_neg, t_neg):\n",
    "    return len(t_pos) / (len(t_pos) + len(f_neg))\n",
    "\n",
    "def find_spec(t_pos, f_pos, f_neg, t_neg):\n",
    "    return len(t_neg) / (len(t_neg) + len(f_pos))\n",
    "    \n",
    "def conf_mat(t_pos, f_pos, f_neg, t_neg):\n",
    "    table = [[\"\",'actual positive', 'actual negative'], ['predicted positive', len(t_pos), len(f_pos)], ['predicted negative', len(f_neg), len(t_neg)]]\n",
    "    print(tabulate(table, headers='firstrow', tablefmt='fancy_grid'))\n",
    "    return\n",
    "\n",
    "def find_avg_len(list):\n",
    "    sum = 0\n",
    "    for item in list:\n",
    "        sum = sum + lengths[item-1]\n",
    "    \n",
    "    return sum/len(list)\n",
    "    \n",
    "\n",
    "def plot_roc(tpr, fpr): \n",
    "    # need prediction probabilities for this\n",
    "    # can also do this for ranked predictions, we can probs rank positives by something\n",
    "    # arbitrary like number of alignments but idk how meaningful that is\n",
    "    return"
   ]
  },
  {
   "cell_type": "code",
   "execution_count": 16,
   "metadata": {},
   "outputs": [
    {
     "name": "stdout",
     "output_type": "stream",
     "text": [
      "F1 score: 0.46226617931627606\n",
      "Sensitivity: 0.5448555499239737\n",
      "Specificity: 0.4704327717211761\n"
     ]
    }
   ],
   "source": [
    "print(\"F1 score: \" + str(find_f1(t_pos, f_pos, f_neg, t_neg)))\n",
    "print(\"Sensitivity: \" + str(find_sens(t_pos, f_pos, f_neg, t_neg)))\n",
    "print(\"Specificity: \" + str(find_spec(t_pos, f_pos, f_neg, t_neg)))"
   ]
  },
  {
   "cell_type": "code",
   "execution_count": 11,
   "metadata": {},
   "outputs": [
    {
     "name": "stdout",
     "output_type": "stream",
     "text": [
      "╒════════════════════╤═══════════════════╤═══════════════════╕\n",
      "│                    │   actual positive │   actual negative │\n",
      "╞════════════════════╪═══════════════════╪═══════════════════╡\n",
      "│ predicted positive │              1075 │              1603 │\n",
      "├────────────────────┼───────────────────┼───────────────────┤\n",
      "│ predicted negative │               898 │              1424 │\n",
      "╘════════════════════╧═══════════════════╧═══════════════════╛\n"
     ]
    }
   ],
   "source": [
    "conf_mat(t_pos, f_pos, f_neg, t_neg)"
   ]
  },
  {
   "cell_type": "code",
   "execution_count": 22,
   "metadata": {},
   "outputs": [
    {
     "name": "stdout",
     "output_type": "stream",
     "text": [
      "Average Length of True Positives: 49.29953488372093\n",
      "Average Length of False Positives: 48.948222083593265\n",
      "Average Length of True Negatives: 53.383426966292134\n",
      "Average Length of False Negatives: 47.66369710467706\n"
     ]
    }
   ],
   "source": [
    "print(\"Average Length of True Positives: \" + str(find_avg_len(t_pos)))\n",
    "print(\"Average Length of False Positives: \" + str(find_avg_len(f_pos)))\n",
    "print(\"Average Length of True Negatives: \" + str(find_avg_len(t_neg)))\n",
    "print(\"Average Length of False Negatives: \" + str(find_avg_len(f_neg)))"
   ]
  },
  {
   "cell_type": "code",
   "execution_count": null,
   "metadata": {},
   "outputs": [],
   "source": []
  }
 ],
 "metadata": {
  "kernelspec": {
   "display_name": "Python 3 (ipykernel)",
   "language": "python",
   "name": "python3"
  },
  "language_info": {
   "codemirror_mode": {
    "name": "ipython",
    "version": 3
   },
   "file_extension": ".py",
   "mimetype": "text/x-python",
   "name": "python",
   "nbconvert_exporter": "python",
   "pygments_lexer": "ipython3",
   "version": "3.8.3"
  }
 },
 "nbformat": 4,
 "nbformat_minor": 2
}
